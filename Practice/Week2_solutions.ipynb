{
  "nbformat": 4,
  "nbformat_minor": 0,
  "metadata": {
    "colab": {
      "provenance": []
    },
    "kernelspec": {
      "name": "python3",
      "display_name": "Python 3"
    },
    "language_info": {
      "name": "python"
    }
  },
  "cells": [
    {
      "cell_type": "markdown",
      "source": [
        "###Here are a few extra little exercises to try to practice for loops, while loops, and working with 'input()'."
      ],
      "metadata": {
        "id": "5VTenm_w7p-6"
      }
    },
    {
      "cell_type": "markdown",
      "source": [
        "###Exercise 1: Calculate the Average\n",
        "Description:\n",
        "You are given a list of numbers. Write a program that calculates and prints the average of all the numbers in the list.\n",
        "Extension: modify the code so that it calculates the median, mode, and standard deviation as well!\n"
      ],
      "metadata": {
        "id": "n79oip7M7i3T"
      }
    },
    {
      "cell_type": "code",
      "execution_count": 2,
      "metadata": {
        "colab": {
          "base_uri": "https://localhost:8080/"
        },
        "id": "OFPpZhc_7hFy",
        "outputId": "e993382f-d0b5-48ae-de55-3fa16f56ea2e"
      },
      "outputs": [
        {
          "output_type": "stream",
          "name": "stdout",
          "text": [
            "Average: 6.0\n",
            "Median: 6\n",
            "Mode: 2\n",
            "Standard Deviation: 3.1622776601683795\n"
          ]
        }
      ],
      "source": [
        "# Exercise 1: Calculate the Average\n",
        "\n",
        "# Given list of numbers\n",
        "numbers = [2, 4, 6, 8, 10]\n",
        "\n",
        "# Calculate the sum of numbers\n",
        "total = sum(numbers)\n",
        "\n",
        "# Calculate the length of the list\n",
        "count = len(numbers)\n",
        "\n",
        "# Calculate the average\n",
        "average = total / count\n",
        "\n",
        "# Print the average\n",
        "print(\"Average:\", average)\n",
        "\n",
        "\n",
        "# Extension: Calculate median\n",
        "sorted_numbers = sorted(numbers)\n",
        "# // is integer division\n",
        "middle_index = len(sorted_numbers) // 2\n",
        "median = sorted_numbers[middle_index]\n",
        "print(\"Median:\", median)\n",
        "\n",
        "\n",
        "# Extension: Calculate mode\n",
        "from collections import Counter\n",
        "mode = Counter(numbers).most_common(1)[0][0]\n",
        "print(\"Mode:\", mode)\n",
        "\n",
        "\n",
        "# Extension: Calculate standard deviation\n",
        "import statistics\n",
        "std_dev = statistics.stdev(numbers)\n",
        "print(\"Standard Deviation:\", std_dev)\n"
      ]
    },
    {
      "cell_type": "markdown",
      "source": [
        "### Exercise 2: Counting Vowels\n",
        "Description:\n",
        "You have been given a string by the user. Write a program that counts and prints the number of vowels (a, e, i, o, u) in the given string.\n",
        "Extension: print out how many of each vowel occurs.\n"
      ],
      "metadata": {
        "id": "U017ejMq7kle"
      }
    },
    {
      "cell_type": "code",
      "source": [
        "# Exercise 2: Counting Vowels\n",
        "\n",
        "# Get string from the user\n",
        "user_string = input(\"Enter a string: \")\n",
        "\n",
        "# Count the occurrences of each vowel using a dictionary\n",
        "# Note - dictionaries are a new type that we haven't seen yet - they associate two values together!\n",
        "# This makes them really easy to use to count up each letter\n",
        "\n",
        "vowel_counts = {'a': 0, 'e': 0, 'i': 0, 'o': 0, 'u': 0}\n",
        "for char in user_string:\n",
        "    # for each character in the string, change the character to lower case\n",
        "    if char.lower() in vowel_counts:\n",
        "      # this is a conditional statement that only executes if it is true\n",
        "      # we will see more about if and else in future weeks!\n",
        "        vowel_counts[char.lower()] += 1\n",
        "\n",
        "# Print total number of vowels\n",
        "total_vowels = sum(vowel_counts.values())\n",
        "print(\"Total vowels:\", total_vowels)\n",
        "\n",
        "# Extension: Print occurrences of each vowel\n",
        "for vowel, count in vowel_counts.items():\n",
        "    print(vowel, \":\", count)\n"
      ],
      "metadata": {
        "colab": {
          "base_uri": "https://localhost:8080/"
        },
        "id": "QnXMTeFF7mR4",
        "outputId": "7a8e3f8a-c403-45ad-aa3c-7c9b1bcd6383"
      },
      "execution_count": 1,
      "outputs": [
        {
          "output_type": "stream",
          "name": "stdout",
          "text": [
            "Enter a string: hellopython\n",
            "Total vowels: 3\n",
            "a : 0\n",
            "e : 1\n",
            "i : 0\n",
            "o : 2\n",
            "u : 0\n"
          ]
        }
      ]
    },
    {
      "cell_type": "markdown",
      "source": [
        "### Exercise 3: Multiplication Table\n",
        "Description:\n",
        "Create a program that generates and prints the multiplication table (from 1 to 10) for a given number. The program should take an input number from the user.\n",
        "Extension: allow the user to specify the highest multiple to print out - e.g. 20 instead of 10."
      ],
      "metadata": {
        "id": "bssHc6F17mnf"
      }
    },
    {
      "cell_type": "code",
      "source": [
        "# Exercise 3: Multiplication Table\n",
        "\n",
        "# Get input number from the user\n",
        "number = int(input(\"Enter a number: \"))\n",
        "\n",
        "# Get the highest multiple to print\n",
        "highest_multiple = int(input(\"Enter the highest multiple to print: \"))\n",
        "\n",
        "# Generate and print the multiplication table\n",
        "for i in range(1, highest_multiple + 1):\n",
        "    result = number * i\n",
        "    print(f\"{number} x {i} = {result}\")\n"
      ],
      "metadata": {
        "colab": {
          "base_uri": "https://localhost:8080/"
        },
        "id": "gZtTHmLM7oXn",
        "outputId": "120deb36-4606-46b7-f95e-7fec8d74687e"
      },
      "execution_count": 3,
      "outputs": [
        {
          "output_type": "stream",
          "name": "stdout",
          "text": [
            "Enter a number: 7\n",
            "Enter the highest multiple to print: 9\n",
            "7 x 1 = 7\n",
            "7 x 2 = 14\n",
            "7 x 3 = 21\n",
            "7 x 4 = 28\n",
            "7 x 5 = 35\n",
            "7 x 6 = 42\n",
            "7 x 7 = 49\n",
            "7 x 8 = 56\n",
            "7 x 9 = 63\n"
          ]
        }
      ]
    },
    {
      "cell_type": "markdown",
      "source": [
        "###Exercise 4: While Loop\n",
        "Description:\n",
        "Create an empty list, and while the number of entries in the list is less than 10, add multiples of 3 to the list. When the list is full of 10 entries, print the whole list.\n",
        "Extension: For each iteration of the while loop, print the total of all the items in the list."
      ],
      "metadata": {
        "id": "fgPE9lx-7ouh"
      }
    },
    {
      "cell_type": "code",
      "source": [
        "# Exercise 4: While Loop\n",
        "\n",
        "# Create an empty list\n",
        "numbers_list = []\n",
        "\n",
        "# Initialize a counter\n",
        "counter = 0\n",
        "\n",
        "# While loop to add multiples of 3 to the list\n",
        "while len(numbers_list) < 10:\n",
        "    # Calculate the next multiple of 3\n",
        "    next_multiple = 3 * (counter + 1)\n",
        "    # Add the next multiple to the list\n",
        "    numbers_list.append(next_multiple)\n",
        "    # Print the total of all items in the list\n",
        "    total = sum(numbers_list)\n",
        "    print(\"Total:\", total)\n",
        "    # Increment the counter\n",
        "    counter += 1\n",
        "\n",
        "# Print the whole list\n",
        "print(\"Multiples of 3 list:\", numbers_list)\n"
      ],
      "metadata": {
        "colab": {
          "base_uri": "https://localhost:8080/"
        },
        "id": "pYiJ1-Ch8Vy9",
        "outputId": "fd75fcc7-6a1a-4c76-841e-e50e2c729da4"
      },
      "execution_count": 4,
      "outputs": [
        {
          "output_type": "stream",
          "name": "stdout",
          "text": [
            "Total: 3\n",
            "Total: 9\n",
            "Total: 18\n",
            "Total: 30\n",
            "Total: 45\n",
            "Total: 63\n",
            "Total: 84\n",
            "Total: 108\n",
            "Total: 135\n",
            "Total: 165\n",
            "Multiples of 3 list: [3, 6, 9, 12, 15, 18, 21, 24, 27, 30]\n"
          ]
        }
      ]
    }
  ]
}