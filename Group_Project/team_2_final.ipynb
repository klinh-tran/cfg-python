{
 "cells": [
  {
   "cell_type": "code",
   "execution_count": 24,
   "metadata": {},
   "outputs": [
    {
     "name": "stdout",
     "output_type": "stream",
     "text": [
      "Requirement already satisfied: requests in c:\\users\\khanh linh tran lara\\appdata\\local\\programs\\python\\python37\\lib\\site-packages (2.31.0)\n",
      "Requirement already satisfied: charset-normalizer<4,>=2 in c:\\users\\khanh linh tran lara\\appdata\\local\\programs\\python\\python37\\lib\\site-packages (from requests) (3.3.2)\n",
      "Requirement already satisfied: idna<4,>=2.5 in c:\\users\\khanh linh tran lara\\appdata\\local\\programs\\python\\python37\\lib\\site-packages (from requests) (3.6)\n",
      "Requirement already satisfied: urllib3<3,>=1.21.1 in c:\\users\\khanh linh tran lara\\appdata\\local\\programs\\python\\python37\\lib\\site-packages (from requests) (2.0.7)\n",
      "Requirement already satisfied: certifi>=2017.4.17 in c:\\users\\khanh linh tran lara\\appdata\\local\\programs\\python\\python37\\lib\\site-packages (from requests) (2024.2.2)\n",
      "Requirement already satisfied: fuzzywuzzy in c:\\users\\khanh linh tran lara\\appdata\\local\\programs\\python\\python37\\lib\\site-packages (0.18.0)\n"
     ]
    }
   ],
   "source": [
    "!pip install requests\n",
    "!pip install fuzzywuzzy"
   ]
  },
  {
   "cell_type": "code",
   "execution_count": 25,
   "metadata": {},
   "outputs": [],
   "source": [
    "import requests\n",
    "import random\n",
    "import json\n",
    "from fuzzywuzzy import fuzz"
   ]
  },
  {
   "cell_type": "code",
   "execution_count": 26,
   "metadata": {},
   "outputs": [],
   "source": [
    "#Step ONE\n",
    "# Team Python Project- Recipe finder :)\n",
    "#We use an input function within a defining function and formatted strings to determine users name and their bootcamp \n",
    "''' Ask user's information to welcome '''\n",
    "def name():\n",
    "    name = input(\"Please enter your name:  \")\n",
    "    bootcamp = input(\"What is the name of your coding bootcamp?: \")\n",
    "    print (\"Hello {} and everyone joining today from {}\".format(name.title(),bootcamp.title()))"
   ]
  },
  {
   "cell_type": "code",
   "execution_count": 27,
   "metadata": {},
   "outputs": [],
   "source": [
    "''' Retrieve the outcome from API request '''\n",
    "def recipe_finder(ingredient):   \n",
    "    app_id = \"9b99a79e\"\n",
    "    app_key = \"685b85e54d9239c5ef342f4f65e84ae3\"\n",
    "    recipe_url = 'https://api.edamam.com/search?q={}&app_id={}&app_key={}'.format(ingredient, app_id, app_key)\n",
    "    result = requests.get(recipe_url)\n",
    "    stored_recipe = result.json()\n",
    "    return stored_recipe['hits']"
   ]
  },
  {
   "cell_type": "code",
   "execution_count": 28,
   "metadata": {},
   "outputs": [],
   "source": [
    "def ingredient_input():\n",
    "    ''' Ask ingredient input from the user '''        \n",
    "    ingredient = ''\n",
    "    thinking_of_ingredient= input('Can you think of an ingredient? (y/n) ')\n",
    "    \n",
    "    ''' We use if statements to determine if users know what they are looking for\n",
    "        if no - a random choice is generated\n",
    "        if yes - users input the name of the ingredient to look up '''\n",
    "    if thinking_of_ingredient == \"n\":\n",
    "        print('It seems there are too many options, we will generate you a random one.')\n",
    "        random_ingredients = [\"cheese\", \"eggs\", \"chicken\", \"beef\", \"lamb\"]\n",
    "        ingredient = random.choice(random_ingredients)\n",
    "        print(\"You are looking for:\", ingredient)\n",
    "    elif thinking_of_ingredient == \"y\":\n",
    "        ingredient = input('Enter an ingredient you wish to use in a recipe: ')\n",
    "        print(\"You are looking for:\", ingredient)\n",
    "    else:\n",
    "        print(\"Invalid response, please try again\")\n",
    "        ingredient_input()\n",
    "    \n",
    "    return ingredient"
   ]
  },
  {
   "cell_type": "code",
   "execution_count": 29,
   "metadata": {},
   "outputs": [],
   "source": [
    "def save_results(data_to_update: dict):\n",
    "    ''' Save results to a file'''\n",
    "    file_name = 'recipes.json'\n",
    "\n",
    "    # if file exists, add new results to the file\n",
    "    try:\n",
    "        with open(file_name, 'r') as file:\n",
    "            existing_data = json.load(file)\n",
    "    except Exception as e:\n",
    "        print(e)\n",
    "        existing_data = []\n",
    "        \n",
    "    existing_data.insert(0, data_to_update) # add new data to the beginning of the file\n",
    "    \n",
    "    # Write the updated list back to the file\n",
    "    with open(file_name, 'w') as file:\n",
    "        json.dump(existing_data, file, indent=4)"
   ]
  },
  {
   "cell_type": "code",
   "execution_count": 30,
   "metadata": {},
   "outputs": [],
   "source": [
    "''' Retrieve the label and URI from recipe's results'''\n",
    "def recipe_results(ingredient):\n",
    "    data_to_update = {}\n",
    "    data_to_update['Ingredient'] = ingredient\n",
    "    results_list = []\n",
    "    \n",
    "    # Step THREE: import requests for the recipe finder with the given ingredient\n",
    "    results = recipe_finder(ingredient)\n",
    "    # check if there are results for the input recipe\n",
    "    if (len(results) >0):\n",
    "        for result in results:\n",
    "            result_dict = {}\n",
    "            recipe = result['recipe']\n",
    "            \n",
    "            # store results to write to file\n",
    "            result_dict['Label'] = recipe['label']\n",
    "            result_dict['uri'] = recipe['uri']\n",
    "            results_list.append(result_dict)\n",
    "    else:\n",
    "        print(\"It seems your ingredient cannot be found. Please try again...\")\n",
    "        ingredient = ingredient_input()\n",
    "        recipe_results(ingredient)\n",
    "\n",
    "    results_list = sorted(results_list, key=lambda item: list(item.values())[0]) # order the list results according to the label alphabetically\n",
    "    data_to_update['Results'] = results_list\n",
    "    save_results(data_to_update)"
   ]
  },
  {
   "cell_type": "code",
   "execution_count": 31,
   "metadata": {},
   "outputs": [],
   "source": [
    "def pick_recipe():\n",
    "    ''' Ask users which recipe they should choose'''\n",
    "    file_name = 'recipes.json'\n",
    "\n",
    "    # if file exists, get data from the file\n",
    "    try:\n",
    "        with open(file_name, 'r') as file:\n",
    "            recipe_results = json.load(file)\n",
    "    \n",
    "        preferred_recipe = input(\"Which recipe you want to choose? \")\n",
    "        \n",
    "        for recipe_result in recipe_results:\n",
    "            for result in recipe_result[\"Results\"]:\n",
    "                recipe_name = result['Label']\n",
    "                if fuzz.partial_ratio(recipe_name.lower(), preferred_recipe.lower()) >=70: # find match results between user input and stored recipes\n",
    "                    print(\"Label: {}\".format(recipe_name))\n",
    "                    print(\"URI: {}\".format(result['uri']))\n",
    "    except Exception:\n",
    "        print('Error opening the result file.')\n"
   ]
  },
  {
   "cell_type": "code",
   "execution_count": 32,
   "metadata": {},
   "outputs": [],
   "source": [
    "def ask_to_choose_recipe():\n",
    "    chosen_recipe = input(\"Oh right, do you want to choose the recipe from ingredien(s) you just searched? (y/n) \")\n",
    "    if chosen_recipe.lower() == 'y':\n",
    "        pick_recipe()\n",
    "    elif chosen_recipe.lower() == 'n':\n",
    "        print(\"Hope you have found what you need. See you next time!\")\n",
    "    else:\n",
    "        print(\"Invalid response, please try again...\")\n",
    "        ask_to_choose_recipe()"
   ]
  },
  {
   "cell_type": "code",
   "execution_count": 33,
   "metadata": {},
   "outputs": [],
   "source": [
    "def continue_search():\n",
    "    ''' Allow users to continue another search '''\n",
    "    is_continue = True\n",
    "    while (is_continue == True):\n",
    "        continue_request = input(\"Do you want to continue searching an ingredient? (y/n) \")\n",
    "        if (continue_request.lower() == 'y'):\n",
    "            is_continue = True\n",
    "            ingredient = ingredient_input()   \n",
    "            recipe_results(ingredient)\n",
    "        elif (continue_request.lower() == 'n'):\n",
    "            # Step SIX: check if the users want to choose \n",
    "            is_continue = False\n",
    "            ask_to_choose_recipe()                \n",
    "        else:\n",
    "            is_continue = True\n",
    "            print(\"Invalid response, please try again...\")"
   ]
  },
  {
   "cell_type": "code",
   "execution_count": 34,
   "metadata": {},
   "outputs": [],
   "source": [
    "def search():\n",
    "    make_a_recipe = input(\"Do you want to make a meal? (y/n) \")\n",
    "    if make_a_recipe.lower() == \"y\":\n",
    "        print(\"Start thinking about which ingredient you wish to include ...\")\n",
    "        \n",
    "        # Step TWO: we use if statements to determine if users know what they are looking for  \n",
    "        ingredient = ingredient_input()   \n",
    "        \n",
    "        # Step FOUR: retrieve the recipe results and write to a JSON file\n",
    "        recipe_results(ingredient)\n",
    "        \n",
    "        #Step FIVE: we use a while loop and booleans to determine if you want to search for another recipe or not \n",
    "        continue_search()\n",
    "        \n",
    "    elif make_a_recipe.lower() == \"n\":\n",
    "            print(\"Hope you have found what you need. See you next time!\")\n",
    "    else:\n",
    "        print(\"Invalid response, please try again\")\n",
    "        search()\n",
    "    "
   ]
  },
  {
   "cell_type": "code",
   "execution_count": 35,
   "metadata": {},
   "outputs": [
    {
     "name": "stdout",
     "output_type": "stream",
     "text": [
      "Hello Linh and everyone joining today from Fbdfb\n",
      "Start thinking about which ingredient you wish to include ...\n",
      "You are looking for: egg\n",
      "Label: Fried Egg\n",
      "URI: http://www.edamam.com/ontologies/edamam.owl#recipe_3bf20fd757bd45a89ed149db85d081b7\n",
      "Label: Fried Egg\n",
      "URI: http://www.edamam.com/ontologies/edamam.owl#recipe_0eb708f983f08541458392788dff059b\n"
     ]
    }
   ],
   "source": [
    "if __name__ == '__main__':\n",
    "    name()\n",
    "    search()"
   ]
  }
 ],
 "metadata": {
  "kernelspec": {
   "display_name": "Python 3",
   "language": "python",
   "name": "python3"
  },
  "language_info": {
   "codemirror_mode": {
    "name": "ipython",
    "version": 3
   },
   "file_extension": ".py",
   "mimetype": "text/x-python",
   "name": "python",
   "nbconvert_exporter": "python",
   "pygments_lexer": "ipython3",
   "version": "3.7.8"
  }
 },
 "nbformat": 4,
 "nbformat_minor": 2
}
